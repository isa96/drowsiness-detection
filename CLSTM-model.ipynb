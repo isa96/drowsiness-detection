{
  "cells": [
    {
      "cell_type": "code",
      "execution_count": null,
      "metadata": {
        "id": "sH8qVtUwSySR"
      },
      "outputs": [],
      "source": [
        "from sklearn.base import BaseEstimator, TransformerMixin\n",
        "import pandas as pd\n",
        "from sklearn.model_selection import train_test_split\n",
        "from sklearn.metrics import roc_curve, roc_auc_score, f1_score\n",
        "from sklearn.naive_bayes import GaussianNB\n",
        "from sklearn.linear_model import LogisticRegression\n",
        "from sklearn.neural_network import MLPClassifier\n",
        "from sklearn.naive_bayes import BernoulliNB\n",
        "from sklearn.tree import DecisionTreeClassifier\n",
        "import numpy as np\n",
        "import matplotlib.pyplot as plt\n",
        "import seaborn as sns\n",
        "from sklearn.pipeline import Pipeline, FeatureUnion\n",
        "from sklearn.metrics import accuracy_score\n",
        "from sklearn.metrics import confusion_matrix\n",
        "from sklearn import metrics\n",
        "import warnings\n",
        "import keras\n",
        "import keras.backend as K\n",
        "from keras.layers import LSTM,Dropout,Dense,TimeDistributed,Conv1D,MaxPooling1D,Flatten\n",
        "from keras.models import Sequential\n",
        "import tensorflow as tf\n",
        "import gc\n",
        "from numba import jit\n",
        "from IPython.display import display, clear_output\n",
        "from tqdm import tqdm\n",
        "import matplotlib.pyplot as plt\n",
        "%matplotlib inline\n",
        "import seaborn as sns\n",
        "import sys\n",
        "sns.set_style(\"whitegrid\")"
      ]
    },
    {
      "cell_type": "code",
      "execution_count": null,
      "metadata": {
        "id": "nMHMEhCSO9wP",
        "colab": {
          "base_uri": "https://localhost:8080/"
        },
        "outputId": "e7ad8c72-0539-415a-8a0f-31edcc7b8d09"
      },
      "outputs": [
        {
          "output_type": "stream",
          "name": "stdout",
          "text": [
            "Mounted at /gdrive\n",
            "/gdrive/MyDrive/!modelCLSTM\n"
          ]
        }
      ],
      "source": [
        "from google.colab import drive\n",
        "drive.mount('/gdrive')\n",
        "%cd /gdrive/MyDrive/!modelCLSTM"
      ]
    },
    {
      "cell_type": "code",
      "execution_count": null,
      "metadata": {
        "colab": {
          "base_uri": "https://localhost:8080/",
          "height": 35
        },
        "id": "DjuiSYlcPYUt",
        "outputId": "b7a1b3ee-eaa8-4357-e62f-543939ba6697"
      },
      "outputs": [
        {
          "output_type": "execute_result",
          "data": {
            "text/plain": [
              "'/gdrive/MyDrive/!modelCLSTM'"
            ],
            "application/vnd.google.colaboratory.intrinsic+json": {
              "type": "string"
            }
          },
          "metadata": {},
          "execution_count": 4
        }
      ],
      "source": [
        "%pwd"
      ]
    },
    {
      "cell_type": "markdown",
      "metadata": {
        "id": "zQYr5dZh9jwc"
      },
      "source": [
        "**DATA**"
      ]
    },
    {
      "cell_type": "code",
      "execution_count": null,
      "metadata": {
        "colab": {
          "base_uri": "https://localhost:8080/"
        },
        "id": "mTVajovnNoZz",
        "outputId": "99888732-0b1b-481b-c241-3c7a1e6b134f"
      },
      "outputs": [
        {
          "output_type": "stream",
          "name": "stdout",
          "text": [
            "(19500, 4)\n",
            "       Y    EAR     MAR     MOE\n",
            "0      0  0.2310  0.7400  3.203\n",
            "1      0  0.3550  0.7160  2.017\n",
            "2      0  0.2580  0.6350  2.461\n",
            "3      0  0.1550  0.6110  3.942\n",
            "4      0  0.1860  0.6440  3.462\n",
            "...   ..     ...     ...    ...\n",
            "19495  0  0.1860  0.6333  3.405\n",
            "19496  0  0.2485  0.6507  2.619\n",
            "19497  0  0.2194  0.6928  3.158\n",
            "19498  0  0.2815  0.6528  2.319\n",
            "19499  0  0.1959  0.6196  3.163\n",
            "\n",
            "[19500 rows x 4 columns]\n"
          ]
        }
      ],
      "source": [
        "df = pd.read_csv('v5data.csv',sep=',')\n",
        "df = df.drop(df.columns[0],axis=1)\n",
        "df = df.drop(df.columns[4:], axis=1)\n",
        "df=df.dropna()\n",
        "df=df.dropna(axis=0)\n",
        "print(df.shape)\n",
        "print(df)"
      ]
    },
    {
      "cell_type": "code",
      "execution_count": null,
      "metadata": {
        "id": "K5EHUUuzV5aW"
      },
      "outputs": [],
      "source": [
        "train_percentage = 0.60\n",
        "train_index = int(len(df)*train_percentage)\n",
        "test_index = len(df)-train_index"
      ]
    },
    {
      "cell_type": "code",
      "execution_count": null,
      "metadata": {
        "colab": {
          "base_uri": "https://localhost:8080/"
        },
        "id": "qgcEgD0nV8pT",
        "outputId": "02d06f19-665b-4bf8-c8ab-a2d6962da394"
      },
      "outputs": [
        {
          "output_type": "stream",
          "name": "stdout",
          "text": [
            "       Y   EAR    MAR      MOE\n",
            "0      0  0.231  0.740   3.203\n",
            "1      0  0.355  0.716   2.017\n",
            "2      0  0.258  0.635   2.461\n",
            "3      0  0.155  0.611   3.942\n",
            "4      0  0.186  0.644   3.462\n",
            "...   ..    ...    ...     ...\n",
            "11695  1  0.124  0.955   7.702\n",
            "11696  1  0.097  0.937   9.660\n",
            "11697  1  0.113  1.185  10.487\n",
            "11698  1  0.152  0.966   6.355\n",
            "11699  1  0.247  0.918   3.717\n",
            "\n",
            "[11700 rows x 4 columns]\n",
            "       Y    EAR     MAR      MOE\n",
            "11700  1  0.2520  0.9000   3.571\n",
            "11701  1  0.2150  0.9520   4.428\n",
            "11702  1  0.0900  1.0680  11.867\n",
            "11703  1  0.0890  1.0860  12.202\n",
            "11704  1  0.0870  1.0060  11.563\n",
            "...   ..     ...     ...     ...\n",
            "19495  0  0.1860  0.6333   3.405\n",
            "19496  0  0.2485  0.6507   2.619\n",
            "19497  0  0.2194  0.6928   3.158\n",
            "19498  0  0.2815  0.6528   2.319\n",
            "19499  0  0.1959  0.6196   3.163\n",
            "\n",
            "[7800 rows x 4 columns]\n"
          ]
        }
      ],
      "source": [
        "df_train = df[:train_index]\n",
        "df_test = df[-test_index:]\n",
        "print(df_train)\n",
        "print(df_test)"
      ]
    },
    {
      "cell_type": "code",
      "execution_count": null,
      "metadata": {
        "colab": {
          "base_uri": "https://localhost:8080/"
        },
        "id": "TNmaYS4XV9p_",
        "outputId": "36dc5700-f153-45df-a46d-2471306189bc"
      },
      "outputs": [
        {
          "output_type": "stream",
          "name": "stdout",
          "text": [
            "         EAR     MAR      MOE\n",
            "11700  0.2520  0.9000   3.571\n",
            "11701  0.2150  0.9520   4.428\n",
            "11702  0.0900  1.0680  11.867\n",
            "11703  0.0890  1.0860  12.202\n",
            "11704  0.0870  1.0060  11.563\n",
            "...       ...     ...     ...\n",
            "19495  0.1860  0.6333   3.405\n",
            "19496  0.2485  0.6507   2.619\n",
            "19497  0.2194  0.6928   3.158\n",
            "19498  0.2815  0.6528   2.319\n",
            "19499  0.1959  0.6196   3.163\n",
            "\n",
            "[7800 rows x 3 columns]\n",
            "11700    1\n",
            "11701    1\n",
            "11702    1\n",
            "11703    1\n",
            "11704    1\n",
            "        ..\n",
            "19495    0\n",
            "19496    0\n",
            "19497    0\n",
            "19498    0\n",
            "19499    0\n",
            "Name: Y, Length: 7800, dtype: int64\n"
          ]
        }
      ],
      "source": [
        "x_test = df_test.drop([\"Y\"],axis=1)\n",
        "y_test = df_test[\"Y\"]\n",
        "print(x_test)\n",
        "print(y_test)"
      ]
    },
    {
      "cell_type": "code",
      "execution_count": null,
      "metadata": {
        "id": "X-_nsawvWEkt"
      },
      "outputs": [],
      "source": [
        "x_train = df_train.drop('Y',axis=1)\n",
        "y_train = df_train['Y']"
      ]
    },
    {
      "cell_type": "code",
      "execution_count": null,
      "metadata": {
        "colab": {
          "base_uri": "https://localhost:8080/"
        },
        "id": "JBtrriHLWILk",
        "outputId": "907e42e6-5af7-4ce1-d357-b6a2dfd61340"
      },
      "outputs": [
        {
          "output_type": "execute_result",
          "data": {
            "text/plain": [
              "(7800, 3)"
            ]
          },
          "metadata": {},
          "execution_count": 10
        }
      ],
      "source": [
        "x_test.shape"
      ]
    },
    {
      "cell_type": "code",
      "execution_count": null,
      "metadata": {
        "colab": {
          "base_uri": "https://localhost:8080/"
        },
        "id": "fH6ebCc2WMQk",
        "outputId": "3b596bb0-009a-422f-cc27-ba3c39399504"
      },
      "outputs": [
        {
          "output_type": "execute_result",
          "data": {
            "text/plain": [
              "(11700, 3)"
            ]
          },
          "metadata": {},
          "execution_count": 11
        }
      ],
      "source": [
        "x_train.shape\n"
      ]
    },
    {
      "cell_type": "code",
      "execution_count": null,
      "metadata": {
        "colab": {
          "base_uri": "https://localhost:8080/"
        },
        "id": "7NPsNr3wrmD8",
        "outputId": "ff69342d-4588-4ebf-927c-bbef99b49f40"
      },
      "outputs": [
        {
          "output_type": "execute_result",
          "data": {
            "text/plain": [
              "(7800,)"
            ]
          },
          "metadata": {},
          "execution_count": 12
        }
      ],
      "source": [
        "y_test.shape"
      ]
    },
    {
      "cell_type": "code",
      "execution_count": null,
      "metadata": {
        "colab": {
          "base_uri": "https://localhost:8080/"
        },
        "id": "oRQB0_HqrkAq",
        "outputId": "91e19a18-b2d8-4fa1-dad0-41bb7f28ff92"
      },
      "outputs": [
        {
          "output_type": "execute_result",
          "data": {
            "text/plain": [
              "(11700,)"
            ]
          },
          "metadata": {},
          "execution_count": 13
        }
      ],
      "source": [
        "y_train.shape"
      ]
    },
    {
      "cell_type": "code",
      "execution_count": null,
      "metadata": {
        "id": "NTznED0IORsU"
      },
      "outputs": [],
      "source": [
        "# import numpy as np\n",
        "# x_shaped_train  = np.array(x_train).reshape(800,2,2) #9600 : 5\n",
        "# x_shaped_test  = np.array(x_test).reshape(200,2,2)\n",
        "\n",
        "# print(x_shaped_train)"
      ]
    },
    {
      "cell_type": "code",
      "execution_count": null,
      "metadata": {
        "colab": {
          "base_uri": "https://localhost:8080/"
        },
        "id": "PxdY1DOaWQo4",
        "outputId": "08ca69a5-c6f2-4c91-c775-e442b6d618ee"
      },
      "outputs": [
        {
          "output_type": "stream",
          "name": "stdout",
          "text": [
            "[[[ 0.231  0.74   3.203]\n",
            "  [ 0.355  0.716  2.017]\n",
            "  [ 0.258  0.635  2.461]\n",
            "  [ 0.155  0.611  3.942]\n",
            "  [ 0.186  0.644  3.462]]\n",
            "\n",
            " [[ 0.299  0.774  2.589]\n",
            "  [ 0.155  0.559  3.606]\n",
            "  [ 0.21   0.589  2.805]\n",
            "  [ 0.286  0.605  2.115]\n",
            "  [ 0.307  0.685  2.231]]\n",
            "\n",
            " [[ 0.254  0.682  2.685]\n",
            "  [ 0.343  0.762  2.222]\n",
            "  [ 0.173  0.525  3.035]\n",
            "  [ 0.251  0.668  2.661]\n",
            "  [ 0.228  0.607  2.662]]\n",
            "\n",
            " ...\n",
            "\n",
            " [[ 0.175  0.977  5.583]\n",
            "  [ 0.112  1.141 10.188]\n",
            "  [ 0.103  1.064 10.33 ]\n",
            "  [ 0.112  1.077  9.616]\n",
            "  [ 0.111  1.002  9.027]]\n",
            "\n",
            " [[ 0.143  0.988  6.909]\n",
            "  [ 0.12   0.954  7.95 ]\n",
            "  [ 0.113  1.167 10.327]\n",
            "  [ 0.048  1.048 21.833]\n",
            "  [ 0.126  1.069  8.484]]\n",
            "\n",
            " [[ 0.124  0.955  7.702]\n",
            "  [ 0.097  0.937  9.66 ]\n",
            "  [ 0.113  1.185 10.487]\n",
            "  [ 0.152  0.966  6.355]\n",
            "  [ 0.247  0.918  3.717]]]\n"
          ]
        }
      ],
      "source": [
        "import numpy as np\n",
        "x_shaped_train  = np.array(x_train).reshape(2340,5,3) #9600 : 5\n",
        "x_shaped_test  = np.array(x_test).reshape(1560,5,3)\n",
        "\n",
        "print(x_shaped_train)"
      ]
    },
    {
      "cell_type": "code",
      "execution_count": null,
      "metadata": {
        "colab": {
          "base_uri": "https://localhost:8080/"
        },
        "id": "qVX7S0g4WSkL",
        "outputId": "04c43791-c090-4187-96f2-ec8dce51cdd7"
      },
      "outputs": [
        {
          "output_type": "stream",
          "name": "stdout",
          "text": [
            "2340\n",
            "1560\n"
          ]
        }
      ],
      "source": [
        "y_train = np.array(y_train)\n",
        "y_test = np.array(y_test)\n",
        "\n",
        "y_shaped_train  = []\n",
        "for i in range(0, len(y_train), 5):\n",
        "  y_shaped_train.append([y_train[i]])\n",
        "print(len(y_shaped_train))\n",
        "\n",
        "y_shaped_test  = []\n",
        "for i in range(0, len(y_test), 5):\n",
        "  y_shaped_test.append([y_test[i]])\n",
        "print(len(y_shaped_test))"
      ]
    },
    {
      "cell_type": "code",
      "execution_count": null,
      "metadata": {
        "colab": {
          "base_uri": "https://localhost:8080/"
        },
        "id": "bZqE5_xVWbRx",
        "outputId": "17bfdc4c-e231-4977-dfbd-cd0c941750e2"
      },
      "outputs": [
        {
          "output_type": "execute_result",
          "data": {
            "text/plain": [
              "(2340, 5, 3)"
            ]
          },
          "metadata": {},
          "execution_count": 17
        }
      ],
      "source": [
        "x_shaped_train.shape"
      ]
    },
    {
      "cell_type": "code",
      "execution_count": null,
      "metadata": {
        "colab": {
          "base_uri": "https://localhost:8080/"
        },
        "id": "RsDsXk8rWdQj",
        "outputId": "2d4cbacc-70d4-4c39-c476-34b93a279838"
      },
      "outputs": [
        {
          "output_type": "execute_result",
          "data": {
            "text/plain": [
              "(1560, 5, 3)"
            ]
          },
          "metadata": {},
          "execution_count": 18
        }
      ],
      "source": [
        "x_shaped_test.shape"
      ]
    },
    {
      "cell_type": "code",
      "execution_count": null,
      "metadata": {
        "colab": {
          "base_uri": "https://localhost:8080/"
        },
        "id": "BTuQwYPrWiSc",
        "outputId": "80165bbd-4911-48a9-baad-468c74a8edb1"
      },
      "outputs": [
        {
          "output_type": "execute_result",
          "data": {
            "text/plain": [
              "(2340, 1)"
            ]
          },
          "metadata": {},
          "execution_count": 19
        }
      ],
      "source": [
        "y_shaped_train = np.array(y_shaped_train)\n",
        "y_shaped_train.shape"
      ]
    },
    {
      "cell_type": "code",
      "execution_count": null,
      "metadata": {
        "colab": {
          "base_uri": "https://localhost:8080/"
        },
        "id": "c1l3LpLRWl15",
        "outputId": "87caa610-7f1e-45ed-b270-d5ec6cabc115"
      },
      "outputs": [
        {
          "output_type": "execute_result",
          "data": {
            "text/plain": [
              "(1560, 1)"
            ]
          },
          "metadata": {},
          "execution_count": 20
        }
      ],
      "source": [
        "y_shaped_test = np.array(y_shaped_test)\n",
        "y_shaped_test.shape"
      ]
    },
    {
      "cell_type": "markdown",
      "source": [
        "**CLSTM**"
      ],
      "metadata": {
        "id": "nL3iCvMzE8Qp"
      }
    },
    {
      "cell_type": "code",
      "source": [
        "def keras_auc(y_true, y_pred):\n",
        "    auc = tf.metrics.auc(y_true, y_pred)[1]\n",
        "    K.get_session().run(tf.local_variables_initializer())\n",
        "    return auc"
      ],
      "metadata": {
        "id": "8vmwid0NIcy7"
      },
      "execution_count": null,
      "outputs": []
    },
    {
      "cell_type": "code",
      "source": [
        "import numpy as np\n",
        "from keras.utils import to_categorical\n",
        "from keras.layers import Dense, Flatten, Dropout, ZeroPadding3D\n",
        "# from keras.layers.recurrent import LSTM\n",
        "from keras.layers import LSTM\n",
        "from keras.models import Sequential, load_model\n",
        "from keras.optimizers import Adam, RMSprop\n",
        "# from keras.layers.wrappers import TimeDistributed\n",
        "from tensorflow.keras.layers import Flatten, GRU, Dropout, TimeDistributed, Dense\n",
        "from keras.layers.convolutional import (Conv2D, MaxPooling3D, Conv3D,\n",
        "    MaxPooling2D)\n",
        "from collections import deque\n",
        "import sys\n",
        "import tensorflow as tf\n",
        "\n",
        "#definisi model\n",
        "metrics = ['accuracy']\n",
        "model = Sequential()\n",
        "\n",
        "model.add(TimeDistributed(Conv1D(64, kernel_size = 3, activation = 'relu', input_shape = (5,3))))\n",
        "# model.add(Flatten())\n",
        "model.add(Dense(32, activation='relu'))\n",
        "model.add(Dense(16, activation = 'relu'))\n",
        "model.add(TimeDistributed(Flatten()))\n",
        "\n",
        "# model.add(Dense(1024, activation='sigmoid'))\n",
        "model.add(LSTM(300, return_sequences=True,\n",
        "                       input_shape=(5, 4,),\n",
        "                       dropout=0.5))\n",
        "\n",
        "model.add(Dense(100, activation='relu'))\n",
        "model.add(Dense(1,activation = 'sigmoid'))\n",
        "\n",
        "optimizer = Adam(learning_rate=0.00001)\n",
        "model.compile(loss='binary_crossentropy', optimizer=optimizer, metrics=['accuracy'])\n",
        "\n",
        "\n",
        "# patient early stopping\n",
        "es = tf.keras.callbacks.EarlyStopping(monitor='val_loss', mode='min', verbose=1, patience=50)\n",
        "\n",
        "#model checkpoint\n",
        "mc = tf.keras.callbacks.ModelCheckpoint('best_model.h5', monitor='val_accuracy', mode='max', verbose=1, save_best_only=True)\n",
        "\n",
        "#fit model\n",
        "history=model.fit(tf.expand_dims(x_shaped_train, axis=-1), y_shaped_train, validation_data = (x_shaped_test,y_shaped_test), epochs=500, batch_size= 50, verbose=0, callbacks=[es,mc])\n",
        "\n",
        "# load the saved model\n",
        "saved_model = load_model('best_model.h5')\n",
        "\n",
        "#evaluate the model\n",
        "_, train_acc = model.evaluate(x_shaped_train, y_shaped_train, verbose=0)\n",
        "_, test_acc = model.evaluate(x_shaped_test,y_shaped_test, verbose=0)\n",
        "print('Train: %.3f, Test: %.3f' % (train_acc, test_acc))\n",
        "\n",
        "# #plot training history\n",
        "# pyplot.plot(history.history['loss'], label='train')\n",
        "# pyplot.plot(history.history['val_loss'], label='test')\n",
        "# pyplot.legend()\n",
        "# pyplot.show()"
      ],
      "metadata": {
        "colab": {
          "base_uri": "https://localhost:8080/"
        },
        "id": "LheohSD9E_nZ",
        "outputId": "14d69d4d-f23b-49c9-bdf1-70a41c5bd07d"
      },
      "execution_count": null,
      "outputs": [
        {
          "output_type": "stream",
          "name": "stdout",
          "text": [
            "\n",
            "Epoch 1: val_accuracy improved from -inf to 0.51859, saving model to best_model.h5\n",
            "\n",
            "Epoch 2: val_accuracy did not improve from 0.51859\n",
            "\n",
            "Epoch 3: val_accuracy did not improve from 0.51859\n",
            "\n",
            "Epoch 4: val_accuracy did not improve from 0.51859\n",
            "\n",
            "Epoch 5: val_accuracy did not improve from 0.51859\n",
            "\n",
            "Epoch 6: val_accuracy improved from 0.51859 to 0.51923, saving model to best_model.h5\n",
            "\n",
            "Epoch 7: val_accuracy improved from 0.51923 to 0.52064, saving model to best_model.h5\n",
            "\n",
            "Epoch 8: val_accuracy improved from 0.52064 to 0.52462, saving model to best_model.h5\n",
            "\n",
            "Epoch 9: val_accuracy improved from 0.52462 to 0.53449, saving model to best_model.h5\n",
            "\n",
            "Epoch 10: val_accuracy improved from 0.53449 to 0.55795, saving model to best_model.h5\n",
            "\n",
            "Epoch 11: val_accuracy improved from 0.55795 to 0.56731, saving model to best_model.h5\n",
            "\n",
            "Epoch 12: val_accuracy improved from 0.56731 to 0.60936, saving model to best_model.h5\n",
            "\n",
            "Epoch 13: val_accuracy improved from 0.60936 to 0.63372, saving model to best_model.h5\n",
            "\n",
            "Epoch 14: val_accuracy improved from 0.63372 to 0.65769, saving model to best_model.h5\n",
            "\n",
            "Epoch 15: val_accuracy improved from 0.65769 to 0.68154, saving model to best_model.h5\n",
            "\n",
            "Epoch 16: val_accuracy improved from 0.68154 to 0.69718, saving model to best_model.h5\n",
            "\n",
            "Epoch 17: val_accuracy improved from 0.69718 to 0.70667, saving model to best_model.h5\n",
            "\n",
            "Epoch 18: val_accuracy improved from 0.70667 to 0.72897, saving model to best_model.h5\n",
            "\n",
            "Epoch 19: val_accuracy improved from 0.72897 to 0.74436, saving model to best_model.h5\n",
            "\n",
            "Epoch 20: val_accuracy improved from 0.74436 to 0.75577, saving model to best_model.h5\n",
            "\n",
            "Epoch 21: val_accuracy improved from 0.75577 to 0.77718, saving model to best_model.h5\n",
            "\n",
            "Epoch 22: val_accuracy improved from 0.77718 to 0.78744, saving model to best_model.h5\n",
            "\n",
            "Epoch 23: val_accuracy improved from 0.78744 to 0.79269, saving model to best_model.h5\n",
            "\n",
            "Epoch 24: val_accuracy improved from 0.79269 to 0.81167, saving model to best_model.h5\n",
            "\n",
            "Epoch 25: val_accuracy improved from 0.81167 to 0.81590, saving model to best_model.h5\n",
            "\n",
            "Epoch 26: val_accuracy improved from 0.81590 to 0.81987, saving model to best_model.h5\n",
            "\n",
            "Epoch 27: val_accuracy improved from 0.81987 to 0.83269, saving model to best_model.h5\n",
            "\n",
            "Epoch 28: val_accuracy improved from 0.83269 to 0.83436, saving model to best_model.h5\n",
            "\n",
            "Epoch 29: val_accuracy improved from 0.83436 to 0.83756, saving model to best_model.h5\n",
            "\n",
            "Epoch 30: val_accuracy improved from 0.83756 to 0.84167, saving model to best_model.h5\n",
            "\n",
            "Epoch 31: val_accuracy improved from 0.84167 to 0.84923, saving model to best_model.h5\n",
            "\n",
            "Epoch 32: val_accuracy improved from 0.84923 to 0.85128, saving model to best_model.h5\n",
            "\n",
            "Epoch 33: val_accuracy improved from 0.85128 to 0.85474, saving model to best_model.h5\n",
            "\n",
            "Epoch 34: val_accuracy improved from 0.85474 to 0.85731, saving model to best_model.h5\n",
            "\n",
            "Epoch 35: val_accuracy improved from 0.85731 to 0.86269, saving model to best_model.h5\n",
            "\n",
            "Epoch 36: val_accuracy improved from 0.86269 to 0.86872, saving model to best_model.h5\n",
            "\n",
            "Epoch 37: val_accuracy improved from 0.86872 to 0.86923, saving model to best_model.h5\n",
            "\n",
            "Epoch 38: val_accuracy improved from 0.86923 to 0.87449, saving model to best_model.h5\n",
            "\n",
            "Epoch 39: val_accuracy improved from 0.87449 to 0.88064, saving model to best_model.h5\n",
            "\n",
            "Epoch 40: val_accuracy did not improve from 0.88064\n",
            "\n",
            "Epoch 41: val_accuracy improved from 0.88064 to 0.88321, saving model to best_model.h5\n",
            "\n",
            "Epoch 42: val_accuracy improved from 0.88321 to 0.88603, saving model to best_model.h5\n",
            "\n",
            "Epoch 43: val_accuracy did not improve from 0.88603\n",
            "\n",
            "Epoch 44: val_accuracy did not improve from 0.88603\n",
            "\n",
            "Epoch 45: val_accuracy improved from 0.88603 to 0.88756, saving model to best_model.h5\n",
            "\n",
            "Epoch 46: val_accuracy did not improve from 0.88756\n",
            "\n",
            "Epoch 47: val_accuracy improved from 0.88756 to 0.88923, saving model to best_model.h5\n",
            "\n",
            "Epoch 48: val_accuracy improved from 0.88923 to 0.89103, saving model to best_model.h5\n",
            "\n",
            "Epoch 49: val_accuracy improved from 0.89103 to 0.89603, saving model to best_model.h5\n",
            "\n",
            "Epoch 50: val_accuracy did not improve from 0.89603\n",
            "\n",
            "Epoch 51: val_accuracy did not improve from 0.89603\n",
            "\n",
            "Epoch 52: val_accuracy did not improve from 0.89603\n",
            "\n",
            "Epoch 53: val_accuracy did not improve from 0.89603\n",
            "\n",
            "Epoch 54: val_accuracy improved from 0.89603 to 0.89679, saving model to best_model.h5\n",
            "\n",
            "Epoch 55: val_accuracy improved from 0.89679 to 0.89949, saving model to best_model.h5\n",
            "\n",
            "Epoch 56: val_accuracy improved from 0.89949 to 0.90051, saving model to best_model.h5\n",
            "\n",
            "Epoch 57: val_accuracy improved from 0.90051 to 0.90410, saving model to best_model.h5\n",
            "\n",
            "Epoch 58: val_accuracy did not improve from 0.90410\n",
            "\n",
            "Epoch 59: val_accuracy did not improve from 0.90410\n",
            "\n",
            "Epoch 60: val_accuracy improved from 0.90410 to 0.90436, saving model to best_model.h5\n",
            "\n",
            "Epoch 61: val_accuracy improved from 0.90436 to 0.90526, saving model to best_model.h5\n",
            "\n",
            "Epoch 62: val_accuracy did not improve from 0.90526\n",
            "\n",
            "Epoch 63: val_accuracy improved from 0.90526 to 0.90872, saving model to best_model.h5\n",
            "\n",
            "Epoch 64: val_accuracy improved from 0.90872 to 0.90974, saving model to best_model.h5\n",
            "\n",
            "Epoch 65: val_accuracy did not improve from 0.90974\n",
            "\n",
            "Epoch 66: val_accuracy improved from 0.90974 to 0.91244, saving model to best_model.h5\n",
            "\n",
            "Epoch 67: val_accuracy did not improve from 0.91244\n",
            "\n",
            "Epoch 68: val_accuracy did not improve from 0.91244\n",
            "\n",
            "Epoch 69: val_accuracy did not improve from 0.91244\n",
            "\n",
            "Epoch 70: val_accuracy did not improve from 0.91244\n",
            "\n",
            "Epoch 71: val_accuracy did not improve from 0.91244\n",
            "\n",
            "Epoch 72: val_accuracy did not improve from 0.91244\n",
            "\n",
            "Epoch 73: val_accuracy improved from 0.91244 to 0.91256, saving model to best_model.h5\n",
            "\n",
            "Epoch 74: val_accuracy did not improve from 0.91256\n",
            "\n",
            "Epoch 75: val_accuracy did not improve from 0.91256\n",
            "\n",
            "Epoch 76: val_accuracy improved from 0.91256 to 0.91397, saving model to best_model.h5\n",
            "\n",
            "Epoch 77: val_accuracy did not improve from 0.91397\n",
            "\n",
            "Epoch 78: val_accuracy improved from 0.91397 to 0.91628, saving model to best_model.h5\n",
            "\n",
            "Epoch 79: val_accuracy improved from 0.91628 to 0.91795, saving model to best_model.h5\n",
            "\n",
            "Epoch 80: val_accuracy did not improve from 0.91795\n",
            "\n",
            "Epoch 81: val_accuracy did not improve from 0.91795\n",
            "\n",
            "Epoch 82: val_accuracy did not improve from 0.91795\n",
            "\n",
            "Epoch 83: val_accuracy did not improve from 0.91795\n",
            "\n",
            "Epoch 84: val_accuracy improved from 0.91795 to 0.91859, saving model to best_model.h5\n",
            "\n",
            "Epoch 85: val_accuracy improved from 0.91859 to 0.91872, saving model to best_model.h5\n",
            "\n",
            "Epoch 86: val_accuracy did not improve from 0.91872\n",
            "\n",
            "Epoch 87: val_accuracy did not improve from 0.91872\n",
            "\n",
            "Epoch 88: val_accuracy improved from 0.91872 to 0.91962, saving model to best_model.h5\n",
            "\n",
            "Epoch 89: val_accuracy did not improve from 0.91962\n",
            "\n",
            "Epoch 90: val_accuracy improved from 0.91962 to 0.92000, saving model to best_model.h5\n",
            "\n",
            "Epoch 91: val_accuracy did not improve from 0.92000\n",
            "\n",
            "Epoch 92: val_accuracy improved from 0.92000 to 0.92013, saving model to best_model.h5\n",
            "\n",
            "Epoch 93: val_accuracy improved from 0.92013 to 0.92026, saving model to best_model.h5\n",
            "\n",
            "Epoch 94: val_accuracy did not improve from 0.92026\n",
            "\n",
            "Epoch 95: val_accuracy improved from 0.92026 to 0.92038, saving model to best_model.h5\n",
            "\n",
            "Epoch 96: val_accuracy improved from 0.92038 to 0.92372, saving model to best_model.h5\n",
            "\n",
            "Epoch 97: val_accuracy did not improve from 0.92372\n",
            "\n",
            "Epoch 98: val_accuracy did not improve from 0.92372\n",
            "\n",
            "Epoch 99: val_accuracy did not improve from 0.92372\n",
            "\n",
            "Epoch 100: val_accuracy did not improve from 0.92372\n",
            "\n",
            "Epoch 101: val_accuracy did not improve from 0.92372\n",
            "\n",
            "Epoch 102: val_accuracy did not improve from 0.92372\n",
            "\n",
            "Epoch 103: val_accuracy did not improve from 0.92372\n",
            "\n",
            "Epoch 104: val_accuracy did not improve from 0.92372\n",
            "\n",
            "Epoch 105: val_accuracy did not improve from 0.92372\n",
            "\n",
            "Epoch 106: val_accuracy improved from 0.92372 to 0.92910, saving model to best_model.h5\n",
            "\n",
            "Epoch 107: val_accuracy did not improve from 0.92910\n",
            "\n",
            "Epoch 108: val_accuracy did not improve from 0.92910\n",
            "\n",
            "Epoch 109: val_accuracy did not improve from 0.92910\n",
            "\n",
            "Epoch 110: val_accuracy did not improve from 0.92910\n",
            "\n",
            "Epoch 111: val_accuracy did not improve from 0.92910\n",
            "\n",
            "Epoch 112: val_accuracy did not improve from 0.92910\n",
            "\n",
            "Epoch 113: val_accuracy did not improve from 0.92910\n",
            "\n",
            "Epoch 114: val_accuracy did not improve from 0.92910\n",
            "\n",
            "Epoch 115: val_accuracy did not improve from 0.92910\n",
            "\n",
            "Epoch 116: val_accuracy did not improve from 0.92910\n",
            "\n",
            "Epoch 117: val_accuracy did not improve from 0.92910\n",
            "\n",
            "Epoch 118: val_accuracy did not improve from 0.92910\n",
            "\n",
            "Epoch 119: val_accuracy did not improve from 0.92910\n",
            "\n",
            "Epoch 120: val_accuracy did not improve from 0.92910\n",
            "\n",
            "Epoch 121: val_accuracy did not improve from 0.92910\n",
            "\n",
            "Epoch 122: val_accuracy did not improve from 0.92910\n",
            "\n",
            "Epoch 123: val_accuracy did not improve from 0.92910\n",
            "\n",
            "Epoch 124: val_accuracy did not improve from 0.92910\n",
            "\n",
            "Epoch 125: val_accuracy did not improve from 0.92910\n",
            "\n",
            "Epoch 126: val_accuracy did not improve from 0.92910\n",
            "\n",
            "Epoch 127: val_accuracy did not improve from 0.92910\n",
            "\n",
            "Epoch 128: val_accuracy did not improve from 0.92910\n",
            "\n",
            "Epoch 129: val_accuracy did not improve from 0.92910\n",
            "\n",
            "Epoch 130: val_accuracy did not improve from 0.92910\n",
            "\n",
            "Epoch 131: val_accuracy did not improve from 0.92910\n",
            "\n",
            "Epoch 132: val_accuracy did not improve from 0.92910\n",
            "\n",
            "Epoch 133: val_accuracy did not improve from 0.92910\n",
            "\n",
            "Epoch 134: val_accuracy improved from 0.92910 to 0.93077, saving model to best_model.h5\n",
            "\n",
            "Epoch 135: val_accuracy did not improve from 0.93077\n",
            "\n",
            "Epoch 136: val_accuracy did not improve from 0.93077\n",
            "\n",
            "Epoch 137: val_accuracy did not improve from 0.93077\n",
            "\n",
            "Epoch 138: val_accuracy did not improve from 0.93077\n",
            "\n",
            "Epoch 139: val_accuracy improved from 0.93077 to 0.93179, saving model to best_model.h5\n",
            "\n",
            "Epoch 140: val_accuracy did not improve from 0.93179\n",
            "\n",
            "Epoch 141: val_accuracy did not improve from 0.93179\n",
            "\n",
            "Epoch 142: val_accuracy did not improve from 0.93179\n",
            "\n",
            "Epoch 143: val_accuracy did not improve from 0.93179\n",
            "\n",
            "Epoch 144: val_accuracy did not improve from 0.93179\n",
            "\n",
            "Epoch 145: val_accuracy did not improve from 0.93179\n",
            "\n",
            "Epoch 146: val_accuracy did not improve from 0.93179\n",
            "\n",
            "Epoch 147: val_accuracy did not improve from 0.93179\n",
            "\n",
            "Epoch 148: val_accuracy did not improve from 0.93179\n",
            "\n",
            "Epoch 149: val_accuracy did not improve from 0.93179\n",
            "\n",
            "Epoch 150: val_accuracy did not improve from 0.93179\n",
            "\n",
            "Epoch 151: val_accuracy did not improve from 0.93179\n",
            "\n",
            "Epoch 152: val_accuracy did not improve from 0.93179\n",
            "\n",
            "Epoch 153: val_accuracy did not improve from 0.93179\n",
            "\n",
            "Epoch 154: val_accuracy did not improve from 0.93179\n",
            "\n",
            "Epoch 155: val_accuracy did not improve from 0.93179\n",
            "\n",
            "Epoch 156: val_accuracy improved from 0.93179 to 0.93256, saving model to best_model.h5\n",
            "\n",
            "Epoch 157: val_accuracy did not improve from 0.93256\n",
            "\n",
            "Epoch 158: val_accuracy improved from 0.93256 to 0.93423, saving model to best_model.h5\n",
            "\n",
            "Epoch 159: val_accuracy did not improve from 0.93423\n",
            "\n",
            "Epoch 160: val_accuracy did not improve from 0.93423\n",
            "\n",
            "Epoch 161: val_accuracy did not improve from 0.93423\n",
            "\n",
            "Epoch 162: val_accuracy did not improve from 0.93423\n",
            "\n",
            "Epoch 163: val_accuracy did not improve from 0.93423\n",
            "\n",
            "Epoch 164: val_accuracy improved from 0.93423 to 0.93474, saving model to best_model.h5\n",
            "\n",
            "Epoch 165: val_accuracy did not improve from 0.93474\n",
            "\n",
            "Epoch 166: val_accuracy did not improve from 0.93474\n",
            "\n",
            "Epoch 167: val_accuracy did not improve from 0.93474\n",
            "\n",
            "Epoch 168: val_accuracy did not improve from 0.93474\n",
            "\n",
            "Epoch 169: val_accuracy did not improve from 0.93474\n",
            "\n",
            "Epoch 170: val_accuracy did not improve from 0.93474\n",
            "\n",
            "Epoch 171: val_accuracy did not improve from 0.93474\n",
            "\n",
            "Epoch 172: val_accuracy did not improve from 0.93474\n",
            "\n",
            "Epoch 173: val_accuracy did not improve from 0.93474\n",
            "\n",
            "Epoch 174: val_accuracy did not improve from 0.93474\n",
            "\n",
            "Epoch 175: val_accuracy did not improve from 0.93474\n",
            "\n",
            "Epoch 176: val_accuracy did not improve from 0.93474\n",
            "\n",
            "Epoch 177: val_accuracy did not improve from 0.93474\n",
            "\n",
            "Epoch 178: val_accuracy did not improve from 0.93474\n",
            "\n",
            "Epoch 179: val_accuracy did not improve from 0.93474\n",
            "\n",
            "Epoch 180: val_accuracy did not improve from 0.93474\n",
            "\n",
            "Epoch 181: val_accuracy did not improve from 0.93474\n",
            "\n",
            "Epoch 182: val_accuracy did not improve from 0.93474\n",
            "\n",
            "Epoch 183: val_accuracy did not improve from 0.93474\n",
            "\n",
            "Epoch 184: val_accuracy did not improve from 0.93474\n",
            "\n",
            "Epoch 185: val_accuracy did not improve from 0.93474\n",
            "\n",
            "Epoch 186: val_accuracy did not improve from 0.93474\n",
            "\n",
            "Epoch 187: val_accuracy did not improve from 0.93474\n",
            "\n",
            "Epoch 188: val_accuracy did not improve from 0.93474\n",
            "\n",
            "Epoch 189: val_accuracy did not improve from 0.93474\n",
            "\n",
            "Epoch 190: val_accuracy did not improve from 0.93474\n",
            "\n",
            "Epoch 191: val_accuracy did not improve from 0.93474\n",
            "\n",
            "Epoch 192: val_accuracy did not improve from 0.93474\n",
            "\n",
            "Epoch 193: val_accuracy did not improve from 0.93474\n",
            "\n",
            "Epoch 194: val_accuracy did not improve from 0.93474\n",
            "\n",
            "Epoch 195: val_accuracy did not improve from 0.93474\n",
            "\n",
            "Epoch 196: val_accuracy did not improve from 0.93474\n",
            "\n",
            "Epoch 197: val_accuracy did not improve from 0.93474\n",
            "\n",
            "Epoch 198: val_accuracy did not improve from 0.93474\n",
            "\n",
            "Epoch 199: val_accuracy did not improve from 0.93474\n",
            "\n",
            "Epoch 200: val_accuracy did not improve from 0.93474\n",
            "\n",
            "Epoch 201: val_accuracy did not improve from 0.93474\n",
            "\n",
            "Epoch 202: val_accuracy did not improve from 0.93474\n",
            "\n",
            "Epoch 203: val_accuracy improved from 0.93474 to 0.93513, saving model to best_model.h5\n",
            "\n",
            "Epoch 204: val_accuracy did not improve from 0.93513\n",
            "\n",
            "Epoch 205: val_accuracy did not improve from 0.93513\n",
            "\n",
            "Epoch 206: val_accuracy did not improve from 0.93513\n",
            "\n",
            "Epoch 207: val_accuracy did not improve from 0.93513\n",
            "\n",
            "Epoch 208: val_accuracy did not improve from 0.93513\n",
            "\n",
            "Epoch 209: val_accuracy did not improve from 0.93513\n",
            "\n",
            "Epoch 210: val_accuracy did not improve from 0.93513\n",
            "\n",
            "Epoch 211: val_accuracy did not improve from 0.93513\n",
            "\n",
            "Epoch 212: val_accuracy did not improve from 0.93513\n",
            "\n",
            "Epoch 213: val_accuracy did not improve from 0.93513\n",
            "\n",
            "Epoch 214: val_accuracy did not improve from 0.93513\n",
            "\n",
            "Epoch 215: val_accuracy did not improve from 0.93513\n",
            "\n",
            "Epoch 216: val_accuracy did not improve from 0.93513\n",
            "\n",
            "Epoch 217: val_accuracy did not improve from 0.93513\n",
            "\n",
            "Epoch 218: val_accuracy did not improve from 0.93513\n",
            "\n",
            "Epoch 219: val_accuracy did not improve from 0.93513\n",
            "\n",
            "Epoch 220: val_accuracy did not improve from 0.93513\n",
            "\n",
            "Epoch 221: val_accuracy did not improve from 0.93513\n",
            "\n",
            "Epoch 222: val_accuracy did not improve from 0.93513\n",
            "\n",
            "Epoch 223: val_accuracy did not improve from 0.93513\n",
            "\n",
            "Epoch 224: val_accuracy did not improve from 0.93513\n",
            "\n",
            "Epoch 225: val_accuracy did not improve from 0.93513\n",
            "\n",
            "Epoch 226: val_accuracy did not improve from 0.93513\n",
            "\n",
            "Epoch 227: val_accuracy did not improve from 0.93513\n",
            "\n",
            "Epoch 228: val_accuracy did not improve from 0.93513\n",
            "\n",
            "Epoch 229: val_accuracy did not improve from 0.93513\n",
            "\n",
            "Epoch 230: val_accuracy did not improve from 0.93513\n",
            "\n",
            "Epoch 231: val_accuracy did not improve from 0.93513\n",
            "\n",
            "Epoch 232: val_accuracy did not improve from 0.93513\n",
            "\n",
            "Epoch 233: val_accuracy did not improve from 0.93513\n",
            "\n",
            "Epoch 234: val_accuracy did not improve from 0.93513\n",
            "\n",
            "Epoch 235: val_accuracy did not improve from 0.93513\n",
            "\n",
            "Epoch 236: val_accuracy did not improve from 0.93513\n",
            "\n",
            "Epoch 237: val_accuracy did not improve from 0.93513\n",
            "\n",
            "Epoch 238: val_accuracy did not improve from 0.93513\n",
            "\n",
            "Epoch 239: val_accuracy did not improve from 0.93513\n",
            "\n",
            "Epoch 240: val_accuracy did not improve from 0.93513\n",
            "\n",
            "Epoch 241: val_accuracy did not improve from 0.93513\n",
            "\n",
            "Epoch 242: val_accuracy did not improve from 0.93513\n",
            "\n",
            "Epoch 243: val_accuracy did not improve from 0.93513\n",
            "\n",
            "Epoch 244: val_accuracy did not improve from 0.93513\n",
            "\n",
            "Epoch 245: val_accuracy did not improve from 0.93513\n",
            "\n",
            "Epoch 246: val_accuracy did not improve from 0.93513\n",
            "\n",
            "Epoch 247: val_accuracy did not improve from 0.93513\n",
            "\n",
            "Epoch 248: val_accuracy did not improve from 0.93513\n",
            "\n",
            "Epoch 249: val_accuracy did not improve from 0.93513\n",
            "\n",
            "Epoch 250: val_accuracy did not improve from 0.93513\n",
            "\n",
            "Epoch 251: val_accuracy did not improve from 0.93513\n",
            "\n",
            "Epoch 252: val_accuracy did not improve from 0.93513\n",
            "\n",
            "Epoch 253: val_accuracy did not improve from 0.93513\n",
            "\n",
            "Epoch 254: val_accuracy did not improve from 0.93513\n",
            "\n",
            "Epoch 255: val_accuracy did not improve from 0.93513\n",
            "\n",
            "Epoch 256: val_accuracy did not improve from 0.93513\n",
            "\n",
            "Epoch 257: val_accuracy did not improve from 0.93513\n",
            "\n",
            "Epoch 258: val_accuracy did not improve from 0.93513\n",
            "\n",
            "Epoch 259: val_accuracy did not improve from 0.93513\n",
            "\n",
            "Epoch 260: val_accuracy did not improve from 0.93513\n",
            "\n",
            "Epoch 261: val_accuracy did not improve from 0.93513\n",
            "\n",
            "Epoch 262: val_accuracy did not improve from 0.93513\n",
            "\n",
            "Epoch 263: val_accuracy did not improve from 0.93513\n",
            "\n",
            "Epoch 264: val_accuracy did not improve from 0.93513\n",
            "\n",
            "Epoch 265: val_accuracy did not improve from 0.93513\n",
            "\n",
            "Epoch 266: val_accuracy did not improve from 0.93513\n",
            "\n",
            "Epoch 267: val_accuracy did not improve from 0.93513\n",
            "\n",
            "Epoch 268: val_accuracy did not improve from 0.93513\n",
            "\n",
            "Epoch 269: val_accuracy did not improve from 0.93513\n",
            "\n",
            "Epoch 270: val_accuracy did not improve from 0.93513\n",
            "\n",
            "Epoch 271: val_accuracy did not improve from 0.93513\n",
            "\n",
            "Epoch 272: val_accuracy did not improve from 0.93513\n",
            "\n",
            "Epoch 273: val_accuracy did not improve from 0.93513\n",
            "Epoch 273: early stopping\n",
            "Train: 0.966, Test: 0.929\n"
          ]
        }
      ]
    },
    {
      "cell_type": "code",
      "source": [
        "print (val_loss)"
      ],
      "metadata": {
        "colab": {
          "base_uri": "https://localhost:8080/",
          "height": 165
        },
        "id": "NJR7qLMsr6Rn",
        "outputId": "e38fe46b-7009-4d18-b47a-7872b463dd38"
      },
      "execution_count": null,
      "outputs": [
        {
          "output_type": "error",
          "ename": "NameError",
          "evalue": "ignored",
          "traceback": [
            "\u001b[0;31m---------------------------------------------------------------------------\u001b[0m",
            "\u001b[0;31mNameError\u001b[0m                                 Traceback (most recent call last)",
            "\u001b[0;32m<ipython-input-26-44326046e378>\u001b[0m in \u001b[0;36m<module>\u001b[0;34m\u001b[0m\n\u001b[0;32m----> 1\u001b[0;31m \u001b[0mprint\u001b[0m \u001b[0;34m(\u001b[0m\u001b[0mval_loss\u001b[0m\u001b[0;34m)\u001b[0m\u001b[0;34m\u001b[0m\u001b[0;34m\u001b[0m\u001b[0m\n\u001b[0m",
            "\u001b[0;31mNameError\u001b[0m: name 'val_loss' is not defined"
          ]
        }
      ]
    },
    {
      "cell_type": "code",
      "source": [
        "from keras.models import Sequential, load_model\n",
        "model = load_model('best_model.h5')"
      ],
      "metadata": {
        "id": "ZAPxi_cVwgP5",
        "outputId": "e628f6b5-7cbb-400e-db8b-582cfadc9636",
        "colab": {
          "base_uri": "https://localhost:8080/",
          "height": 328
        }
      },
      "execution_count": null,
      "outputs": [
        {
          "output_type": "error",
          "ename": "OSError",
          "evalue": "ignored",
          "traceback": [
            "\u001b[0;31m---------------------------------------------------------------------------\u001b[0m",
            "\u001b[0;31mOSError\u001b[0m                                   Traceback (most recent call last)",
            "\u001b[0;32m<ipython-input-1-cfe1bbb5cca7>\u001b[0m in \u001b[0;36m<module>\u001b[0;34m\u001b[0m\n\u001b[1;32m      1\u001b[0m \u001b[0;32mfrom\u001b[0m \u001b[0mkeras\u001b[0m\u001b[0;34m.\u001b[0m\u001b[0mmodels\u001b[0m \u001b[0;32mimport\u001b[0m \u001b[0mSequential\u001b[0m\u001b[0;34m,\u001b[0m \u001b[0mload_model\u001b[0m\u001b[0;34m\u001b[0m\u001b[0;34m\u001b[0m\u001b[0m\n\u001b[0;32m----> 2\u001b[0;31m \u001b[0mmodel\u001b[0m \u001b[0;34m=\u001b[0m \u001b[0mload_model\u001b[0m\u001b[0;34m(\u001b[0m\u001b[0;34m'best_model.h5'\u001b[0m\u001b[0;34m)\u001b[0m\u001b[0;34m\u001b[0m\u001b[0;34m\u001b[0m\u001b[0m\n\u001b[0m",
            "\u001b[0;32m/usr/local/lib/python3.8/dist-packages/keras/utils/traceback_utils.py\u001b[0m in \u001b[0;36merror_handler\u001b[0;34m(*args, **kwargs)\u001b[0m\n\u001b[1;32m     65\u001b[0m     \u001b[0;32mexcept\u001b[0m \u001b[0mException\u001b[0m \u001b[0;32mas\u001b[0m \u001b[0me\u001b[0m\u001b[0;34m:\u001b[0m  \u001b[0;31m# pylint: disable=broad-except\u001b[0m\u001b[0;34m\u001b[0m\u001b[0;34m\u001b[0m\u001b[0m\n\u001b[1;32m     66\u001b[0m       \u001b[0mfiltered_tb\u001b[0m \u001b[0;34m=\u001b[0m \u001b[0m_process_traceback_frames\u001b[0m\u001b[0;34m(\u001b[0m\u001b[0me\u001b[0m\u001b[0;34m.\u001b[0m\u001b[0m__traceback__\u001b[0m\u001b[0;34m)\u001b[0m\u001b[0;34m\u001b[0m\u001b[0;34m\u001b[0m\u001b[0m\n\u001b[0;32m---> 67\u001b[0;31m       \u001b[0;32mraise\u001b[0m \u001b[0me\u001b[0m\u001b[0;34m.\u001b[0m\u001b[0mwith_traceback\u001b[0m\u001b[0;34m(\u001b[0m\u001b[0mfiltered_tb\u001b[0m\u001b[0;34m)\u001b[0m \u001b[0;32mfrom\u001b[0m \u001b[0;32mNone\u001b[0m\u001b[0;34m\u001b[0m\u001b[0;34m\u001b[0m\u001b[0m\n\u001b[0m\u001b[1;32m     68\u001b[0m     \u001b[0;32mfinally\u001b[0m\u001b[0;34m:\u001b[0m\u001b[0;34m\u001b[0m\u001b[0;34m\u001b[0m\u001b[0m\n\u001b[1;32m     69\u001b[0m       \u001b[0;32mdel\u001b[0m \u001b[0mfiltered_tb\u001b[0m\u001b[0;34m\u001b[0m\u001b[0;34m\u001b[0m\u001b[0m\n",
            "\u001b[0;32m/usr/local/lib/python3.8/dist-packages/keras/saving/save.py\u001b[0m in \u001b[0;36mload_model\u001b[0;34m(filepath, custom_objects, compile, options)\u001b[0m\n\u001b[1;32m    204\u001b[0m         \u001b[0;32mif\u001b[0m \u001b[0misinstance\u001b[0m\u001b[0;34m(\u001b[0m\u001b[0mfilepath_str\u001b[0m\u001b[0;34m,\u001b[0m \u001b[0mstr\u001b[0m\u001b[0;34m)\u001b[0m\u001b[0;34m:\u001b[0m\u001b[0;34m\u001b[0m\u001b[0;34m\u001b[0m\u001b[0m\n\u001b[1;32m    205\u001b[0m           \u001b[0;32mif\u001b[0m \u001b[0;32mnot\u001b[0m \u001b[0mtf\u001b[0m\u001b[0;34m.\u001b[0m\u001b[0mio\u001b[0m\u001b[0;34m.\u001b[0m\u001b[0mgfile\u001b[0m\u001b[0;34m.\u001b[0m\u001b[0mexists\u001b[0m\u001b[0;34m(\u001b[0m\u001b[0mfilepath_str\u001b[0m\u001b[0;34m)\u001b[0m\u001b[0;34m:\u001b[0m\u001b[0;34m\u001b[0m\u001b[0;34m\u001b[0m\u001b[0m\n\u001b[0;32m--> 206\u001b[0;31m             \u001b[0;32mraise\u001b[0m \u001b[0mIOError\u001b[0m\u001b[0;34m(\u001b[0m\u001b[0;34mf'No file or directory found at {filepath_str}'\u001b[0m\u001b[0;34m)\u001b[0m\u001b[0;34m\u001b[0m\u001b[0;34m\u001b[0m\u001b[0m\n\u001b[0m\u001b[1;32m    207\u001b[0m \u001b[0;34m\u001b[0m\u001b[0m\n\u001b[1;32m    208\u001b[0m           \u001b[0;32mif\u001b[0m \u001b[0mtf\u001b[0m\u001b[0;34m.\u001b[0m\u001b[0mio\u001b[0m\u001b[0;34m.\u001b[0m\u001b[0mgfile\u001b[0m\u001b[0;34m.\u001b[0m\u001b[0misdir\u001b[0m\u001b[0;34m(\u001b[0m\u001b[0mfilepath_str\u001b[0m\u001b[0;34m)\u001b[0m\u001b[0;34m:\u001b[0m\u001b[0;34m\u001b[0m\u001b[0;34m\u001b[0m\u001b[0m\n",
            "\u001b[0;31mOSError\u001b[0m: No file or directory found at best_model.h5"
          ]
        }
      ]
    },
    {
      "cell_type": "code",
      "source": [
        "_, train_acc = model.evaluate(x_shaped_train, y_shaped_train, verbose=0)\n",
        "_, test_acc = model.evaluate(x_shaped_test,y_shaped_test, verbose=0)\n",
        "print('Train: %.3f, Test: %.3f' % (train_acc, test_acc))"
      ],
      "metadata": {
        "colab": {
          "base_uri": "https://localhost:8080/"
        },
        "id": "xKLOYjB-gkpe",
        "outputId": "a7c45d38-e042-4629-cf2c-f95982510c4e"
      },
      "execution_count": null,
      "outputs": [
        {
          "output_type": "stream",
          "name": "stdout",
          "text": [
            "Train: 0.969, Test: 0.935\n"
          ]
        }
      ]
    },
    {
      "cell_type": "code",
      "source": [
        "\n",
        "\n",
        "confusion_matrix = metrics.confusion_matrix(actual, predicted)\n",
        "\n",
        "cm_display = metrics.ConfusionMatrixDisplay(confusion_matrix = confusion_matrix, display_labels = [False, True])\n",
        "\n",
        "cm_display.plot()\n",
        "plt.show()"
      ],
      "metadata": {
        "id": "VNCInrC85AXR",
        "colab": {
          "base_uri": "https://localhost:8080/",
          "height": 252
        },
        "outputId": "407e8bc2-4d48-4530-a9fa-a331528fb4fd"
      },
      "execution_count": null,
      "outputs": [
        {
          "output_type": "error",
          "ename": "AttributeError",
          "evalue": "ignored",
          "traceback": [
            "\u001b[0;31m---------------------------------------------------------------------------\u001b[0m",
            "\u001b[0;31mAttributeError\u001b[0m                            Traceback (most recent call last)",
            "\u001b[0;32m<ipython-input-25-16f33c5227ec>\u001b[0m in \u001b[0;36m<module>\u001b[0;34m\u001b[0m\n\u001b[0;32m----> 1\u001b[0;31m \u001b[0mconfusion_matrix\u001b[0m \u001b[0;34m=\u001b[0m \u001b[0mmetrics\u001b[0m\u001b[0;34m.\u001b[0m\u001b[0mconfusion_matrix\u001b[0m\u001b[0;34m(\u001b[0m\u001b[0mactual\u001b[0m\u001b[0;34m,\u001b[0m \u001b[0mpredicted\u001b[0m\u001b[0;34m)\u001b[0m\u001b[0;34m\u001b[0m\u001b[0;34m\u001b[0m\u001b[0m\n\u001b[0m\u001b[1;32m      2\u001b[0m \u001b[0;34m\u001b[0m\u001b[0m\n\u001b[1;32m      3\u001b[0m \u001b[0mcm_display\u001b[0m \u001b[0;34m=\u001b[0m \u001b[0mmetrics\u001b[0m\u001b[0;34m.\u001b[0m\u001b[0mConfusionMatrixDisplay\u001b[0m\u001b[0;34m(\u001b[0m\u001b[0mconfusion_matrix\u001b[0m \u001b[0;34m=\u001b[0m \u001b[0mconfusion_matrix\u001b[0m\u001b[0;34m,\u001b[0m \u001b[0mdisplay_labels\u001b[0m \u001b[0;34m=\u001b[0m \u001b[0;34m[\u001b[0m\u001b[0;32mFalse\u001b[0m\u001b[0;34m,\u001b[0m \u001b[0;32mTrue\u001b[0m\u001b[0;34m]\u001b[0m\u001b[0;34m)\u001b[0m\u001b[0;34m\u001b[0m\u001b[0;34m\u001b[0m\u001b[0m\n\u001b[1;32m      4\u001b[0m \u001b[0;34m\u001b[0m\u001b[0m\n\u001b[1;32m      5\u001b[0m \u001b[0mcm_display\u001b[0m\u001b[0;34m.\u001b[0m\u001b[0mplot\u001b[0m\u001b[0;34m(\u001b[0m\u001b[0;34m)\u001b[0m\u001b[0;34m\u001b[0m\u001b[0;34m\u001b[0m\u001b[0m\n",
            "\u001b[0;31mAttributeError\u001b[0m: 'list' object has no attribute 'confusion_matrix'"
          ]
        }
      ]
    },
    {
      "cell_type": "code",
      "source": [
        "from sklearn.metrics import confusion_matrix\n",
        "import matplotlib.pyplot as plt\n",
        "\n",
        "\n",
        "y_pred = model.predict(x_shaped_test)\n",
        "y_pred = np.argmax(y_pred, axis=1)\n",
        "\n",
        "conf_mat = confusion_matrix(y_shaped_test, y_pred)\n",
        "conf_mat=metrics.ConfusionMatrixDisplay(confusion_matrix = confusion_matrix, display_labels = [False, True])\n",
        "\n",
        "conf_mat.plot()\n",
        "plt.show()"
      ],
      "metadata": {
        "id": "mJMoAMnN3p4i"
      },
      "execution_count": null,
      "outputs": []
    },
    {
      "cell_type": "markdown",
      "source": [
        "**INFERENCE**"
      ],
      "metadata": {
        "id": "oG76dcooxvlu"
      }
    },
    {
      "cell_type": "code",
      "source": [
        "df_test = pd.read_csv('2.csv',sep=',')\n",
        "df_test = df_test.drop(df_test.columns[0],axis=1)\n",
        "df_test = df_test.drop(df_test.columns[4:], axis=1)\n",
        "df_test=df_test.dropna()\n",
        "df_test=df_test.dropna(axis=0)\n",
        "print(df_test.shape)\n",
        "print(df_test)"
      ],
      "metadata": {
        "id": "rJQ01AClxywC"
      },
      "execution_count": null,
      "outputs": []
    },
    {
      "cell_type": "code",
      "source": [
        "pd.DataFrame(history.history).plot(figsize=(8,5))\n",
        "plt.show()"
      ],
      "metadata": {
        "id": "0At-hXzPsR1f"
      },
      "execution_count": null,
      "outputs": []
    },
    {
      "cell_type": "code",
      "source": [
        "from pylab import rcParams\n",
        "rcParams['figure.figsize'] = 15, 8"
      ],
      "metadata": {
        "id": "EobCIm9kys-D"
      },
      "execution_count": null,
      "outputs": []
    },
    {
      "cell_type": "code",
      "source": [
        "#plot training history\n",
        "plt.plot(history.history['loss'], label='train')\n",
        "plt.plot(history.history['val_loss'], label='test')\n",
        "plt.legend()\n",
        "plt.show()"
      ],
      "metadata": {
        "id": "P8tk4RzVqB8_",
        "colab": {
          "base_uri": "https://localhost:8080/",
          "height": 265
        },
        "outputId": "a758d042-9fba-4692-af5c-622246523e8f"
      },
      "execution_count": null,
      "outputs": [
        {
          "output_type": "display_data",
          "data": {
            "text/plain": [
              "<Figure size 432x288 with 1 Axes>"
            ],
            "image/png": "[encoded data removed]"
          },
          "metadata": {}
        }
      ]
    },
    {
      "cell_type": "code",
      "source": [
        "#plot training history\n",
        "plt.plot(history.history['loss'], label='train')\n",
        "# plt.plot(history.history['val_loss'], label='test')\n",
        "plt.legend()\n",
        "plt.show()"
      ],
      "metadata": {
        "id": "eIO0WJu7zfU4",
        "colab": {
          "base_uri": "https://localhost:8080/",
          "height": 265
        },
        "outputId": "423efabb-35f0-4b3b-b59c-ac99e4d46cab"
      },
      "execution_count": null,
      "outputs": [
        {
          "output_type": "display_data",
          "data": {
            "text/plain": [
              "<Figure size 432x288 with 1 Axes>"
            ],
            "image/png": "[encoded data removed]"
          },
          "metadata": {}
        }
      ]
    },
    {
      "cell_type": "code",
      "source": [
        "#plot training history\n",
        "# plt.plot(history.history['loss'], label='train')\n",
        "plt.plot(history.history['val_loss'], label='test')\n",
        "plt.legend()\n",
        "plt.show()"
      ],
      "metadata": {
        "id": "lAsRELKzzk5G",
        "colab": {
          "base_uri": "https://localhost:8080/",
          "height": 265
        },
        "outputId": "a6f9c486-a390-4c9a-f4bb-d484a767a929"
      },
      "execution_count": null,
      "outputs": [
        {
          "output_type": "display_data",
          "data": {
            "text/plain": [
              "<Figure size 432x288 with 1 Axes>"
            ],
            "image/png": "[encoded data removed]"
          },
          "metadata": {}
        }
      ]
    },
    {
      "cell_type": "code",
      "source": [
        "#plot training history\n",
        "plt.plot(history.history['accuracy'], label='train')\n",
        "plt.plot(history.history['val_accuracy'], label='test')\n",
        "plt.legend()\n",
        "plt.show()"
      ],
      "metadata": {
        "id": "HCXmw7bYqD0M",
        "colab": {
          "base_uri": "https://localhost:8080/",
          "height": 265
        },
        "outputId": "d168e4ed-2c68-4c26-dffc-65d31cc72c13"
      },
      "execution_count": null,
      "outputs": [
        {
          "output_type": "display_data",
          "data": {
            "text/plain": [
              "<Figure size 432x288 with 1 Axes>"
            ],
            "image/png": "[encoded data removed]"
          },
          "metadata": {}
        }
      ]
    },
    {
      "cell_type": "code",
      "source": [
        "#plot training history\n",
        "# plt.plot(history.history['accuracy'], label='train')\n",
        "plt.plot(history.history['val_accuracy'], label='test')\n",
        "plt.legend()\n",
        "plt.show()"
      ],
      "metadata": {
        "id": "0n_TAgQNzpgO",
        "colab": {
          "base_uri": "https://localhost:8080/",
          "height": 265
        },
        "outputId": "09b54b73-9757-494b-fcf6-e02abe20a5ce"
      },
      "execution_count": null,
      "outputs": [
        {
          "output_type": "display_data",
          "data": {
            "text/plain": [
              "<Figure size 432x288 with 1 Axes>"
            ],
            "image/png": "[encoded data removed]"
          },
          "metadata": {}
        }
      ]
    },
    {
      "cell_type": "code",
      "source": [
        "#plot training history\n",
        "# plt.plot(history.history['accuracy'], label='train')\n",
        "plt.plot(history.history['val_accuracy'], label='test')\n",
        "plt.legend()\n",
        "plt.show()"
      ],
      "metadata": {
        "id": "T4czO_trzt5F",
        "colab": {
          "base_uri": "https://localhost:8080/",
          "height": 265
        },
        "outputId": "c62d9de9-38fd-48cf-b46b-c8d4024aa8b3"
      },
      "execution_count": null,
      "outputs": [
        {
          "output_type": "display_data",
          "data": {
            "text/plain": [
              "<Figure size 432x288 with 1 Axes>"
            ],
            "image/png": "[encoded data removed]"
          },
          "metadata": {}
        }
      ]
    },
    {
      "cell_type": "code",
      "source": [
        "from sklearn.metrics import precision_recall_curve\n",
        "\n",
        "pred = model.predict(x_shaped_test)\n",
        "print (pred)\n",
        "# conf = confusion_matrix(y_shaped_test, pred)"
      ],
      "metadata": {
        "id": "mAF9lPtZ04TZ",
        "colab": {
          "base_uri": "https://localhost:8080/"
        },
        "outputId": "e040c2b2-bf61-40aa-b9f7-cf30bd98d561"
      },
      "execution_count": null,
      "outputs": [
        {
          "output_type": "stream",
          "name": "stdout",
          "text": [
            "49/49 [==============================] - 1s 11ms/step\n",
            "[[[1.0683133e-01]\n",
            "  [7.3497087e-02]\n",
            "  [9.9767983e-01]\n",
            "  [9.9999791e-01]\n",
            "  [9.9999994e-01]]\n",
            "\n",
            " [[9.8683161e-01]\n",
            "  [9.9997681e-01]\n",
            "  [9.9999982e-01]\n",
            "  [1.0000000e+00]\n",
            "  [1.0000000e+00]]\n",
            "\n",
            " [[9.8311800e-01]\n",
            "  [9.9998534e-01]\n",
            "  [9.9999988e-01]\n",
            "  [1.0000000e+00]\n",
            "  [1.0000000e+00]]\n",
            "\n",
            " ...\n",
            "\n",
            " [[5.9751645e-02]\n",
            "  [4.8092646e-03]\n",
            "  [6.0925563e-04]\n",
            "  [2.7150792e-05]\n",
            "  [4.5334789e-07]]\n",
            "\n",
            " [[5.5856273e-02]\n",
            "  [6.7454083e-03]\n",
            "  [4.3004352e-04]\n",
            "  [1.3450918e-05]\n",
            "  [2.2238015e-07]]\n",
            "\n",
            " [[9.8309867e-02]\n",
            "  [1.1139491e-02]\n",
            "  [1.4911587e-03]\n",
            "  [5.9995851e-05]\n",
            "  [2.4713213e-06]]]\n"
          ]
        }
      ]
    },
    {
      "cell_type": "code",
      "execution_count": null,
      "metadata": {
        "id": "fcWox9jJZ9sh",
        "colab": {
          "base_uri": "https://localhost:8080/",
          "height": 252
        },
        "outputId": "87f457a8-003b-4fb3-9683-0d81c3810a27"
      },
      "outputs": [
        {
          "output_type": "stream",
          "name": "stdout",
          "text": [
            "49/49 [==============================] - 1s 11ms/step\n"
          ]
        },
        {
          "output_type": "error",
          "ename": "NameError",
          "evalue": "ignored",
          "traceback": [
            "\u001b[0;31m---------------------------------------------------------------------------\u001b[0m",
            "\u001b[0;31mNameError\u001b[0m                                 Traceback (most recent call last)",
            "\u001b[0;32m<ipython-input-34-6905bd25d06d>\u001b[0m in \u001b[0;36m<module>\u001b[0;34m\u001b[0m\n\u001b[1;32m      9\u001b[0m \u001b[0;34m\u001b[0m\u001b[0m\n\u001b[1;32m     10\u001b[0m \u001b[0;31m# convert to f score\u001b[0m\u001b[0;34m\u001b[0m\u001b[0;34m\u001b[0m\u001b[0;34m\u001b[0m\u001b[0m\n\u001b[0;32m---> 11\u001b[0;31m \u001b[0mfscore\u001b[0m \u001b[0;34m=\u001b[0m \u001b[0;34m(\u001b[0m\u001b[0;36m2\u001b[0m \u001b[0;34m*\u001b[0m \u001b[0mprecision\u001b[0m \u001b[0;34m*\u001b[0m \u001b[0mrecall\u001b[0m\u001b[0;34m)\u001b[0m \u001b[0;34m/\u001b[0m \u001b[0;34m(\u001b[0m\u001b[0mprecision\u001b[0m \u001b[0;34m+\u001b[0m \u001b[0mrecall\u001b[0m\u001b[0;34m)\u001b[0m\u001b[0;34m\u001b[0m\u001b[0;34m\u001b[0m\u001b[0m\n\u001b[0m\u001b[1;32m     12\u001b[0m \u001b[0;31m# locate the index of the largest f score\u001b[0m\u001b[0;34m\u001b[0m\u001b[0;34m\u001b[0m\u001b[0;34m\u001b[0m\u001b[0m\n\u001b[1;32m     13\u001b[0m \u001b[0mix\u001b[0m \u001b[0;34m=\u001b[0m \u001b[0mnp\u001b[0m\u001b[0;34m.\u001b[0m\u001b[0margmax\u001b[0m\u001b[0;34m(\u001b[0m\u001b[0mfscore\u001b[0m\u001b[0;34m)\u001b[0m\u001b[0;34m\u001b[0m\u001b[0;34m\u001b[0m\u001b[0m\n",
            "\u001b[0;31mNameError\u001b[0m: name 'precision' is not defined"
          ]
        }
      ],
      "source": [
        "from sklearn.metrics import precision_recall_curve\n",
        "\n",
        "preds = model.predict(x_shaped_test)\n",
        "\n",
        "y_shaped_test = y_shaped_test.reshape(-1, 1)\n",
        "\n",
        "# calculate pr curve\n",
        "# precision, recall, thresholds = precision_recall_curve(y_shaped_test, preds)\n",
        "\n",
        "# convert to f score\n",
        "fscore = (2 * precision * recall) / (precision + recall)\n",
        "# locate the index of the largest f score\n",
        "ix = np.argmax(fscore)\n",
        "print('Best Threshold=%f, F-Score=%.3f' % (thresholds[ix], fscore[ix]))"
      ]
    },
    {
      "cell_type": "markdown",
      "metadata": {
        "id": "UMf7rtfbjeLl"
      },
      "source": [
        "**Save Model**"
      ]
    },
    {
      "cell_type": "code",
      "execution_count": null,
      "metadata": {
        "id": "dTg5iJKAkJBS"
      },
      "outputs": [],
      "source": [
        "models_dir = '/gdrive/MyDrive/model2_drowsiness/model/model.h5'\n",
        "tf.keras.models.save_model(model, models_dir)"
      ]
    },
    {
      "cell_type": "code",
      "execution_count": null,
      "metadata": {
        "id": "dV-quRcx0hnm"
      },
      "outputs": [],
      "source": [
        "loaded = tf.saved_model.load(models_dir)\n",
        "print(list(loaded.signatures.keys()))  # [\"serving_default\"]"
      ]
    },
    {
      "cell_type": "code",
      "execution_count": null,
      "metadata": {
        "id": "AEC7TOCY0vtO"
      },
      "outputs": [],
      "source": [
        "infer = loaded.signatures[\"serving_default\"]\n",
        "print(infer.structured_outputs)"
      ]
    },
    {
      "cell_type": "code",
      "execution_count": null,
      "metadata": {
        "id": "F3fDDjwrkS-V"
      },
      "outputs": [],
      "source": [
        "# Load SavedModel\n",
        "import tensorflow_hub as hub\n",
        "model = hub.load(models_dir)\n",
        "print(lstm_model)"
      ]
    },
    {
      "cell_type": "code",
      "execution_count": null,
      "metadata": {
        "id": "g5sHtk2xc-0y"
      },
      "outputs": [],
      "source": [
        "%cd /gdrive/MyDrive/model2_drowsiness\n",
        "!pwd"
      ]
    },
    {
      "cell_type": "code",
      "execution_count": null,
      "metadata": {
        "id": "VtF4zvuvaYeh"
      },
      "outputs": [],
      "source": [
        "!mkdir \"tflite_models_v2\""
      ]
    },
    {
      "cell_type": "code",
      "execution_count": null,
      "metadata": {
        "id": "Vli8Q1aCaiXg"
      },
      "outputs": [],
      "source": [
        "TFLITE_MODEL = \"/gdrive/MyDrive/model2_drowsiness/tflite_models_v2/clstm_lite_v2.tflite\"\n",
        "TFLITE_QUANT_MODEL = \"/gdrive/MyDrive/model2_drowsiness/tflite_models_v2/clstm_quant_v2.tflite\""
      ]
    },
    {
      "cell_type": "code",
      "execution_count": null,
      "metadata": {
        "id": "ac7JJC2_1riq"
      },
      "outputs": [],
      "source": [
        "model = tf.keras.models.load_model(models_dir)\n",
        "model.summary()\n",
        "converter = tf.lite.TFLiteConverter.from_keras_model(model)\n",
        "tfmodel = converter.convert()\n",
        "open(TFLITE_MODEL, 'wb').write(tfmodel)\n"
      ]
    }
  ],
  "metadata": {
    "accelerator": "GPU",
    "colab": {
      "provenance": []
    },
    "gpuClass": "standard",
    "kernelspec": {
      "display_name": "Python 3",
      "name": "python3"
    }
  },
  "nbformat": 4,
  "nbformat_minor": 0
}